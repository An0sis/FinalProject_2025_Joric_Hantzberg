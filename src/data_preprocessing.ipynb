{
 "cells": [
  {
   "cell_type": "code",
   "execution_count": null,
   "id": "fcf9cec2",
   "metadata": {},
   "outputs": [],
   "source": [
    "import pandas as pd"
   ]
  },
  {
   "cell_type": "code",
   "execution_count": null,
   "id": "2dab9b7f",
   "metadata": {},
   "outputs": [
    {
     "name": "stdout",
     "output_type": "stream",
     "text": [
      "Loading big matrix...\n",
      "Loading small matrix...\n",
      "Loading social network...\n",
      "Loading item features...\n",
      "Loading user features...\n",
      "Loading items' daily features...\n",
      "All data loaded.\n"
     ]
    }
   ],
   "source": [
    "# Set the path to the data directory\n",
    "data_path = \"../data/KuaiRec/data/\"\n",
    "\n",
    "# Load main user-item interaction matrix\n",
    "print(\"Loading big matrix...\")\n",
    "big_matrix = pd.read_csv(data_path + \"big_matrix.csv\")\n",
    "\n",
    "# Load a smaller matrix for testing/validation\n",
    "print(\"Loading small matrix...\")\n",
    "small_matrix = pd.read_csv(data_path + \"small_matrix.csv\")\n",
    "\n",
    "# Load social network data and convert friend_list from string to list\n",
    "print(\"Loading social network...\")\n",
    "social_network = pd.read_csv(data_path + \"social_network.csv\")\n",
    "social_network[\"friend_list\"] = social_network[\"friend_list\"].map(eval)\n",
    "\n",
    "# Load item features and convert feat from string to list\n",
    "print(\"Loading item features...\")\n",
    "item_categories = pd.read_csv(data_path + \"item_categories.csv\")\n",
    "item_categories[\"feat\"] = item_categories[\"feat\"].map(eval)\n",
    "\n",
    "# Load user features\n",
    "print(\"Loading user features...\")\n",
    "user_features = pd.read_csv(data_path + \"user_features.csv\")\n",
    "\n",
    "# Load item daily features\n",
    "print(\"Loading items' daily features...\")\n",
    "item_daily_features = pd.read_csv(data_path + \"item_daily_features.csv\")\n",
    "\n",
    "print(\"All data loaded.\")"
   ]
  },
  {
   "cell_type": "code",
   "execution_count": null,
   "id": "20f53131",
   "metadata": {},
   "outputs": [],
   "source": [
    "# Prepare the interaction matrix for training\n",
    "# Select relevant columns and filter out high watch_ratio outliers\n",
    "interaction_matrix = big_matrix[[\"user_id\", \"video_id\", \"watch_ratio\"]]\n",
    "interaction_matrix = interaction_matrix[interaction_matrix['watch_ratio'] <= 3]\n",
    "# Normalize watch_ratio to [0, 1]\n",
    "interaction_matrix['watch_ratio'] = (\n",
    "    (interaction_matrix['watch_ratio'] - interaction_matrix['watch_ratio'].min()) /\n",
    "    (interaction_matrix['watch_ratio'].max() - interaction_matrix['watch_ratio'].min())\n",
    ")\n",
    "# Optionally, you could use log1p normalization (currently commented out)\n",
    "# interaction_matrix[\"watch_ratio\"] = np.log1p(interaction_matrix[\"watch_ratio\"])\n",
    "\n",
    "# Prepare the test matrix in the same way\n",
    "test_matrix = small_matrix[[\"user_id\", \"video_id\", \"watch_ratio\"]]\n",
    "test_matrix = test_matrix[test_matrix['watch_ratio'] <= 3]\n",
    "test_matrix['watch_ratio'] = (\n",
    "    (test_matrix['watch_ratio'] - test_matrix['watch_ratio'].min()) /\n",
    "    (test_matrix['watch_ratio'].max() - test_matrix['watch_ratio'].min())\n",
    ")\n",
    "# Optionally, you could use log1p normalization (currently commented out)\n",
    "# test_matrix[\"watch_ratio\"] = np.log1p(test_matrix[\"watch_ratio\"])\n"
   ]
  },
  {
   "cell_type": "code",
   "execution_count": null,
   "id": "c576be8a",
   "metadata": {},
   "outputs": [],
   "source": [
    "# Prepare user features\n",
    "# Use one-hot encoded features, fill missing values, and shift indices for embedding compatibility\n",
    "onehot_cols = [f\"onehot_feat{i}\" for i in range(18)]\n",
    "users = user_features[[\"user_id\"] + onehot_cols].copy()\n",
    "users[onehot_cols] = users[onehot_cols].fillna(-1).astype(int) + 1\n",
    "users[\"user_id\"] = users[\"user_id\"].astype(int)\n"
   ]
  },
  {
   "cell_type": "code",
   "execution_count": null,
   "id": "9e79ebfa",
   "metadata": {},
   "outputs": [
    {
     "name": "stdout",
     "output_type": "stream",
     "text": [
      "(10728, 9)\n"
     ]
    }
   ],
   "source": [
    "# Prepare video/item features\n",
    "# Helper function to shift and pad tag lists for consistent input length\n",
    "def shift_and_pad(tags, max_len=31):\n",
    "    shifted = [tag + 1 for tag in tags]\n",
    "    padded = shifted[:max_len] + [0] * (max_len - len(shifted))\n",
    "    return padded\n",
    "\n",
    "# Aggregate daily features for each video\n",
    "agg_funcs = {\n",
    "    \"author_id\": \"last\",\n",
    "    \"video_duration\": \"last\",\n",
    "    \"play_progress\": \"mean\",\n",
    "    \"video_tag_id\": \"last\",\n",
    "    \"play_cnt\": \"sum\",\n",
    "    \"like_cnt\": \"sum\",\n",
    "    \"share_cnt\": \"sum\",\n",
    "    \"comment_cnt\": \"sum\"\n",
    "}\n",
    "videos = item_daily_features.groupby(\"video_id\").agg(agg_funcs)\n",
    "# Merge with static item features\n",
    "videos = videos.merge(item_categories, on=\"video_id\", how=\"left\").set_index(\"video_id\")\n",
    "\n",
    "# Filter out videos with extremely long durations\n",
    "videos = videos[videos[\"video_duration\"] <= 20000]\n",
    "videos[\"video_duration\"] = videos[\"video_duration\"].fillna(0).astype(int)\n",
    "# Optionally, normalize video_duration (currently commented out)\n",
    "# videos[\"video_duration\"] = (videos[\"video_duration\"] - videos[\"video_duration\"].min()) / (videos[\"video_duration\"].max() - videos[\"video_duration\"].min())\n",
    "\n",
    "# Fill missing tag IDs and shift for embedding compatibility\n",
    "videos[\"video_tag_id\"] = videos[\"video_tag_id\"].fillna(-1).astype(int) + 1\n",
    "\n",
    "# Not using play, like, and share counts for now\n",
    "\n",
    "# Pad and shift feature lists for each video\n",
    "videos[\"feat\"] = videos[\"feat\"].apply(shift_and_pad)"
   ]
  }
 ],
 "metadata": {
  "kernelspec": {
   "display_name": ".venv",
   "language": "python",
   "name": "python3"
  },
  "language_info": {
   "codemirror_mode": {
    "name": "ipython",
    "version": 3
   },
   "file_extension": ".py",
   "mimetype": "text/x-python",
   "name": "python",
   "nbconvert_exporter": "python",
   "pygments_lexer": "ipython3",
   "version": "3.12.7"
  }
 },
 "nbformat": 4,
 "nbformat_minor": 5
}
